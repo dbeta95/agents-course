{
 "cells": [
  {
   "cell_type": "code",
   "execution_count": 1,
   "metadata": {},
   "outputs": [
    {
     "name": "stderr",
     "output_type": "stream",
     "text": [
      "c:\\Users\\User\\Documents\\Capacitacion_agentes\\capacitacion_agentes_3.12\\Lib\\site-packages\\google\\auth\\_default.py:76: UserWarning: Your application has authenticated using end user credentials from Google Cloud SDK without a quota project. You might receive a \"quota exceeded\" or \"API not enabled\" error. See the following page for troubleshooting: https://cloud.google.com/docs/authentication/adc-troubleshooting/user-creds. \n",
      "  warnings.warn(_CLOUD_SDK_CREDENTIALS_WARNING)\n"
     ]
    }
   ],
   "source": [
    "import os\n",
    "from utils.secrets import access_secret_version\n",
    "\n",
    "GCP_PROJECT = os.getenv('GCP_PROJECT')\n",
    "API_KEY_NAME = os.getenv('API_KEY_NAME')\n",
    "\n",
    "api_key = access_secret_version(project_id=GCP_PROJECT, secret_id=API_KEY_NAME)"
   ]
  },
  {
   "cell_type": "code",
   "execution_count": 4,
   "metadata": {},
   "outputs": [
    {
     "data": {
      "text/plain": [
       "\"The sky is blue due to a phenomenon called **Rayleigh scattering**.  Here's the breakdown:\\n\\n* **Sunlight and Colors:** Sunlight is actually made up of all the colors of the rainbow.\\n* **Entering the Atmosphere:** When sunlight enters the Earth's atmosphere, it collides with tiny air molecules (mostly nitrogen and oxygen).\\n* **Scattering of Light:** This collision causes the sunlight to scatter in different directions.\\n* **Rayleigh Scattering:**  The scattering is more effective for shorter wavelengths of light, like blue and violet. This type of scattering, where the scattering particles are much smaller than the wavelength of light, is called Rayleigh scattering.  It's proportional to 1/λ⁴, where λ is the wavelength. This means blue light (shorter wavelength) is scattered much more strongly than red light (longer wavelength).\\n* **Why not Violet then?:** While violet light is scattered even more than blue light, our eyes are less sensitive to violet, and the sun emits slightly less violet light than blue.  Also, some of the violet light is absorbed higher in the atmosphere.\\n* **Sunsets and Sunrises:** When the sun is low on the horizon, the light has to travel through much more of the atmosphere to reach our eyes. This means even more of the blue light is scattered away, leaving the longer wavelengths like orange and red to dominate, creating those beautiful sunset and sunrise colors.\\n\\nIn short, the sky is blue because blue light is scattered more by the atmosphere than other colors.\\n\""
      ]
     },
     "execution_count": 4,
     "metadata": {},
     "output_type": "execute_result"
    }
   ],
   "source": [
    "import google.generativeai as genai\n",
    "\n",
    "SAFETY_SETTIGNS = {\n",
    "    'HARM_CATEGORY_HARASSMENT': 'BLOCK_NONE',\n",
    "    'HARM_CATEGORY_HATE_SPEECH': 'BLOCK_NONE',\n",
    "    'HARM_CATEGORY_SEXUALLY_EXPLICIT': 'BLOCK_NONE',\n",
    "    'HARM_CATEGORY_DANGEROUS_CONTENT': 'BLOCK_NONE'\n",
    "}\n",
    "TEMPERATURE = 0\n",
    "CANDIDATE_COUNT = 1\n",
    "LLM_MODEL = 'models/gemini-1.5-pro-latest'\n",
    "\n",
    "genai.configure(api_key=api_key)\n",
    "llm_model = genai.GenerativeModel(LLM_MODEL)\n",
    "generation_config = genai.types.GenerationConfig(\n",
    "    candidate_count=CANDIDATE_COUNT,\n",
    "    temperature=TEMPERATURE\n",
    ")\n",
    "\n",
    "def get_model_response(llm_model, prompt):\n",
    "    responses = llm_model.generate_content(\n",
    "        contents=prompt,\n",
    "        safety_settings=SAFETY_SETTIGNS,\n",
    "        generation_config=generation_config\n",
    "    )\n",
    "\n",
    "    answer = \"\".join(response.text for response in responses)\n",
    "    return answer\n",
    "\n",
    "get_model_response(llm_model, \"why is the sky blue?\")"
   ]
  }
 ],
 "metadata": {
  "kernelspec": {
   "display_name": "capacitacion_agentes_3.12",
   "language": "python",
   "name": "python3"
  },
  "language_info": {
   "codemirror_mode": {
    "name": "ipython",
    "version": 3
   },
   "file_extension": ".py",
   "mimetype": "text/x-python",
   "name": "python",
   "nbconvert_exporter": "python",
   "pygments_lexer": "ipython3",
   "version": "3.12.4"
  }
 },
 "nbformat": 4,
 "nbformat_minor": 2
}
